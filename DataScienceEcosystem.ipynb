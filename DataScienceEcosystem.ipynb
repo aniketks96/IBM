{
 "cells": [
  {
   "cell_type": "markdown",
   "metadata": {},
   "source": [
    "<center>\n",
    "    <img src=\"https://cf-courses-data.s3.us.cloud-object-storage.appdomain.cloud/IBMDeveloperSkillsNetwork-DS0105EN-SkillsNetwork/labs/Module2/images/SN_web_lightmode.png\" width=\"300\" alt=\"cognitiveclass.ai logo\">\n",
    "</center>\n"
   ]
  },
  {
   "cell_type": "markdown",
   "metadata": {},
   "source": [
    "#### Add your code below following the instructions given in the course\n"
   ]
  },
  {
   "cell_type": "markdown",
   "metadata": {},
   "source": [
    "<h1>Data Science Tools and Ecosystem<h1>"
   ]
  },
  {
   "cell_type": "markdown",
   "metadata": {},
   "source": [
    "<h2>In this notebook, Data Science Tools and Ecosystem are summarized.<h2>"
   ]
  },
  {
   "cell_type": "markdown",
   "metadata": {},
   "source": [
    "<dl>\n",
    "<dt>Some of the popular languages that Data Scientists use are:</dt>\n",
    "<dd>1. Python</dd>\n",
    "<dd>2. Java</dd>\n",
    "<dd>3. C++</dd>"
   ]
  },
  {
   "cell_type": "markdown",
   "metadata": {},
   "source": [
    "<dl>\n",
    "<dt>Some of the commonly used libraries used by Data Scientists include:</dt>\n",
    "<dd>1. pandas</dd>\n",
    "<dd>2. numpy</dd>\n",
    "<dd>3. Tensorflow</dd>"
   ]
  },
  {
   "cell_type": "markdown",
   "metadata": {},
   "source": [
    "| Data Science Tools |\n",
    "| --- |\n",
    "| Jupyter Notebook |\n",
    "|  |\n",
    "| Google Colab |\n",
    "|  |\n",
    "| R Studio |"
   ]
  },
  {
   "cell_type": "markdown",
   "metadata": {},
   "source": [
    "<h3>Below are a few examples of evaluating arithmetic expressions in Python.<h3>"
   ]
  },
  {
   "cell_type": "markdown",
   "metadata": {},
   "source": [
    "<dt>This a simple arithmetic expression to mutiply then add integers.</dt>"
   ]
  },
  {
   "cell_type": "code",
   "execution_count": 5,
   "metadata": {},
   "outputs": [
    {
     "data": {
      "text/plain": [
       "17"
      ]
     },
     "execution_count": 5,
     "metadata": {},
     "output_type": "execute_result"
    }
   ],
   "source": [
    "(3*4)+5"
   ]
  },
  {
   "cell_type": "code",
   "execution_count": 16,
   "metadata": {},
   "outputs": [
    {
     "name": "stdout",
     "output_type": "stream",
     "text": [
      "Let's convert 200 min into hrs.\n",
      "Hours= 3\n",
      "Minutes= 20\n"
     ]
    }
   ],
   "source": [
    "min=int(\"200\")\n",
    "print (\"Let's convert\",min,\"min into hrs.\")\n",
    "h=min//60\n",
    "m=min%60\n",
    "print(\"Hours=\",h)\n",
    "print(\"Minutes=\",m)"
   ]
  },
  {
   "cell_type": "markdown",
   "metadata": {},
   "source": [
    "<dt>This will convert 200 minutes to hours by diving by 60.</dt>"
   ]
  },
  {
   "cell_type": "markdown",
   "metadata": {},
   "source": [
    "**Objective:**"
   ]
  },
  {
   "cell_type": "markdown",
   "metadata": {},
   "source": [
    "<dl>\n",
    "<dt>List popular languages for Data Science.</dt>\n",
    "<dd>• Python</dd>\n",
    "<dd>• SQL</dd>\n",
    "<dd>• R</dd>\n",
    "<dd>• Julia</dd>\n",
    "<dd>• Java</dd>"
   ]
  },
  {
   "cell_type": "markdown",
   "metadata": {},
   "source": [
    "<dt>Author</dt>\n",
    "<h2>Aniket Sonawane<h2>"
   ]
  },
  {
   "cell_type": "code",
   "execution_count": null,
   "metadata": {},
   "outputs": [],
   "source": []
  }
 ],
 "metadata": {
  "kernelspec": {
   "display_name": "Python 3 (ipykernel)",
   "language": "python",
   "name": "python3"
  },
  "language_info": {
   "codemirror_mode": {
    "name": "ipython",
    "version": 3
   },
   "file_extension": ".py",
   "mimetype": "text/x-python",
   "name": "python",
   "nbconvert_exporter": "python",
   "pygments_lexer": "ipython3",
   "version": "3.11.9"
  }
 },
 "nbformat": 4,
 "nbformat_minor": 4
}
